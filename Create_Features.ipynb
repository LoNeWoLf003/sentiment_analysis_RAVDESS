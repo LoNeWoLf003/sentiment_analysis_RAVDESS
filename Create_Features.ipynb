{
 "cells": [
  {
   "cell_type": "code",
   "execution_count": 1,
   "id": "624ffb0d-73b4-4d35-90c3-fe82e24a9888",
   "metadata": {},
   "outputs": [
    {
     "name": "stdout",
     "output_type": "stream",
     "text": [
      "Requirement already satisfied: resampy in /home/sayak/anaconda3/lib/python3.11/site-packages (0.4.3)\n",
      "Requirement already satisfied: numpy>=1.17 in /home/sayak/anaconda3/lib/python3.11/site-packages (from resampy) (1.26.4)\n",
      "Requirement already satisfied: numba>=0.53 in /home/sayak/anaconda3/lib/python3.11/site-packages (from resampy) (0.59.0)\n",
      "Requirement already satisfied: llvmlite<0.43,>=0.42.0dev0 in /home/sayak/anaconda3/lib/python3.11/site-packages (from numba>=0.53->resampy) (0.42.0)\n",
      "\n",
      "\u001b[1m[\u001b[0m\u001b[34;49mnotice\u001b[0m\u001b[1;39;49m]\u001b[0m\u001b[39;49m A new release of pip is available: \u001b[0m\u001b[31;49m24.0\u001b[0m\u001b[39;49m -> \u001b[0m\u001b[32;49m24.1.1\u001b[0m\n",
      "\u001b[1m[\u001b[0m\u001b[34;49mnotice\u001b[0m\u001b[1;39;49m]\u001b[0m\u001b[39;49m To update, run: \u001b[0m\u001b[32;49mpip install --upgrade pip\u001b[0m\n"
     ]
    }
   ],
   "source": [
    "!pip install resampy"
   ]
  },
  {
   "cell_type": "code",
   "execution_count": 2,
   "id": "cac62592-80cd-4daf-946e-dabb00bf00b6",
   "metadata": {},
   "outputs": [
    {
     "name": "stdout",
     "output_type": "stream",
     "text": [
      "Routine started\n",
      "--- Data loaded. Loading time: 339.69664239883423 seconds ---\n",
      "(5252, 40) (5252,)\n",
      "Routine completed.\n"
     ]
    }
   ],
   "source": [
    "\"\"\"\n",
    "This files creates the X and y features in joblib to be used by the predictive models.\n",
    "\"\"\"\n",
    "\n",
    "import os\n",
    "import time\n",
    "import joblib\n",
    "import librosa\n",
    "import numpy as np\n",
    "\n",
    "from config import SAVE_DIR_PATH\n",
    "from config import TRAINING_FILES_PATH\n",
    "\n",
    "\n",
    "class CreateFeatures:\n",
    "\n",
    "    @staticmethod\n",
    "    def features_creator(path, save_dir) -> str:\n",
    "        \"\"\"\n",
    "        This function creates the dataset and saves both data and labels in\n",
    "        two files, X.joblib and y.joblib in the joblib_features folder.\n",
    "        With this method, you can persist your features and train quickly\n",
    "        new machine learning models instead of reloading the features\n",
    "        every time with this pipeline.\n",
    "        \"\"\"\n",
    "\n",
    "        lst = []\n",
    "\n",
    "        start_time = time.time()\n",
    "\n",
    "        for subdir, dirs, files in os.walk(path):\n",
    "            for file in files:\n",
    "                try:\n",
    "                    # Load librosa array, obtain mfcss, store the file and the mcss information in a new array\n",
    "                    X, sample_rate = librosa.load(os.path.join(subdir, file),\n",
    "                                                  res_type='kaiser_fast')\n",
    "                    mfccs = np.mean(librosa.feature.mfcc(y=X, sr=sample_rate,\n",
    "                                                         n_mfcc=40).T, axis=0)\n",
    "                    # The instruction below converts the labels (from 1 to 8) to a series from 0 to 7\n",
    "                    # This is because our predictor needs to start from 0 otherwise it will try to predict also 0.\n",
    "                    file = int(file[7:8]) - 1\n",
    "                    arr = mfccs, file\n",
    "                    lst.append(arr)\n",
    "                # If the file is not valid, skip it\n",
    "                except ValueError as err:\n",
    "                    print(err)\n",
    "                    continue\n",
    "\n",
    "        print(\"--- Data loaded. Loading time: %s seconds ---\" % (time.time() - start_time))\n",
    "\n",
    "        # Creating X and y: zip makes a list of all the first elements, and a list of all the second elements.\n",
    "        X, y = zip(*lst)\n",
    "\n",
    "        # Array conversion\n",
    "        X, y = np.asarray(X), np.asarray(y)\n",
    "\n",
    "        # Array shape check\n",
    "        print(X.shape, y.shape)\n",
    "\n",
    "        # Preparing features dump\n",
    "        X_name, y_name = 'X.joblib', 'y.joblib'\n",
    "\n",
    "        joblib.dump(X, os.path.join(save_dir, X_name))\n",
    "        joblib.dump(y, os.path.join(save_dir, y_name))\n",
    "\n",
    "        return \"Completed\"\n",
    "\n",
    "\n",
    "if __name__ == '__main__':\n",
    "    print('Routine started')\n",
    "    FEATURES = CreateFeatures.features_creator(path=TRAINING_FILES_PATH, save_dir=SAVE_DIR_PATH)\n",
    "    print('Routine completed.')"
   ]
  },
  {
   "cell_type": "code",
   "execution_count": null,
   "id": "56186a5f-9a2c-4467-8e28-1505c4409c43",
   "metadata": {},
   "outputs": [],
   "source": []
  }
 ],
 "metadata": {
  "kernelspec": {
   "display_name": "Python 3 (ipykernel)",
   "language": "python",
   "name": "python3"
  },
  "language_info": {
   "codemirror_mode": {
    "name": "ipython",
    "version": 3
   },
   "file_extension": ".py",
   "mimetype": "text/x-python",
   "name": "python",
   "nbconvert_exporter": "python",
   "pygments_lexer": "ipython3",
   "version": "3.11.7"
  }
 },
 "nbformat": 4,
 "nbformat_minor": 5
}
